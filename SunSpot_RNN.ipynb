{
 "cells": [
  {
   "cell_type": "code",
   "execution_count": 2,
   "metadata": {},
   "outputs": [
    {
     "name": "stdout",
     "output_type": "stream",
     "text": [
      "Starting file:\n",
      "   year  month  day  dec_year  sn_value  sn_error  obs_num\n",
      "0  1818      1    1  1818.001        -1       NaN        0\n",
      "1  1818      1    2  1818.004        -1       NaN        0\n",
      "2  1818      1    3  1818.007        -1       NaN        0\n",
      "3  1818      1    4  1818.010        -1       NaN        0\n",
      "4  1818      1    5  1818.012        -1       NaN        0\n",
      "5  1818      1    6  1818.015        -1       NaN        0\n",
      "6  1818      1    7  1818.018        -1       NaN        0\n",
      "7  1818      1    8  1818.021        65      10.2        1\n",
      "8  1818      1    9  1818.023        -1       NaN        0\n",
      "9  1818      1   10  1818.026        -1       NaN        0\n",
      "Ending file:\n",
      "       year  month  day  dec_year  sn_value  sn_error  obs_num\n",
      "73373  2018     11   21  2018.889         0       0.0       31\n",
      "73374  2018     11   22  2018.892         0       0.0       15\n",
      "73375  2018     11   23  2018.895         0       0.0       22\n",
      "73376  2018     11   24  2018.897        15       2.7        8\n",
      "73377  2018     11   25  2018.900        14       0.7        7\n",
      "73378  2018     11   26  2018.903        10       1.2        5\n",
      "73379  2018     11   27  2018.905         0       0.0       21\n",
      "73380  2018     11   28  2018.908         0       0.0       23\n",
      "73381  2018     11   29  2018.911         0       0.0       22\n",
      "73382  2018     11   30  2018.914         0       0.0       26\n"
     ]
    }
   ],
   "source": [
    "import pandas as pd\n",
    "import os\n",
    "\n",
    "# Replacce the following path with your own file. It can be downloaded from:\n",
    "# http://www.sidc.be/silso/INFO/sndtotcsv.php\n",
    "path = \"./data/\"\n",
    "    \n",
    "filename = os.path.join(path,\"SN_d_tot_V2.0.csv\")    \n",
    "names = ['year', 'month', 'day', 'dec_year', 'sn_value' , 'sn_error', 'obs_num']\n",
    "df = pd.read_csv(filename,sep=';',header=None,names=names,na_values=['-1'], index_col=False)\n",
    "\n",
    "print(\"Starting file:\")\n",
    "print(df[0:10])\n",
    "\n",
    "print(\"Ending file:\")\n",
    "print(df[-10:])"
   ]
  },
  {
   "cell_type": "code",
   "execution_count": 3,
   "metadata": {},
   "outputs": [
    {
     "name": "stdout",
     "output_type": "stream",
     "text": [
      "11314\n"
     ]
    }
   ],
   "source": [
    "start_id = max(df[df['obs_num'] == 0].index.tolist())+1  # Find the last zero and move one beyond\n",
    "print(start_id)\n",
    "df = df[start_id:] # Trim the rows that have missing observations"
   ]
  },
  {
   "cell_type": "code",
   "execution_count": 4,
   "metadata": {},
   "outputs": [
    {
     "name": "stdout",
     "output_type": "stream",
     "text": [
      "Training set has 55160 observations.\n",
      "Test set has 6909 observations.\n"
     ]
    }
   ],
   "source": [
    "df_train = df[df['year']<2000]\n",
    "df_test = df[df['year']>=2000]\n",
    "\n",
    "spots_train = df_train['sn_value'].tolist()\n",
    "spots_test = df_test['sn_value'].tolist()\n",
    "\n",
    "print(\"Training set has {} observations.\".format(len(spots_train)))\n",
    "print(\"Test set has {} observations.\".format(len(spots_test)))"
   ]
  },
  {
   "cell_type": "code",
   "execution_count": 5,
   "metadata": {},
   "outputs": [
    {
     "name": "stdout",
     "output_type": "stream",
     "text": [
      "Shape of training set: (55146, 13, 1)\n",
      "Shape of test set: (6895, 13, 1)\n"
     ]
    }
   ],
   "source": [
    "import numpy as np\n",
    "\n",
    "def to_sequences(seq_size, obs):\n",
    "    x = []\n",
    "    y = []\n",
    "\n",
    "    for i in range(len(obs)-SEQUENCE_SIZE-1):\n",
    "        #print(i)\n",
    "        window = obs[i:(i+SEQUENCE_SIZE)]\n",
    "        after_window = obs[i+SEQUENCE_SIZE]\n",
    "        window = [[x] for x in window]\n",
    "        #print(\"{} - {}\".format(window,after_window))\n",
    "        x.append(window)\n",
    "        y.append(after_window)\n",
    "        \n",
    "    return np.array(x),np.array(y)\n",
    "    \n",
    "    \n",
    "SEQUENCE_SIZE = 13\n",
    "x_train,y_train = to_sequences(SEQUENCE_SIZE,spots_train)\n",
    "x_test,y_test = to_sequences(SEQUENCE_SIZE,spots_test)\n",
    "\n",
    "print(\"Shape of training set: {}\".format(x_train.shape))\n",
    "print(\"Shape of test set: {}\".format(x_test.shape))"
   ]
  },
  {
   "cell_type": "code",
   "execution_count": 7,
   "metadata": {},
   "outputs": [
    {
     "name": "stdout",
     "output_type": "stream",
     "text": [
      "Build model...\n",
      "Train...\n",
      "Train on 55146 samples, validate on 6895 samples\n",
      "Epoch 1/1000\n",
      " - 36s - loss: 1275.3469 - val_loss: 213.4907\n",
      "Epoch 2/1000\n",
      " - 26s - loss: 517.8004 - val_loss: 210.9896\n",
      "Epoch 3/1000\n",
      " - 35s - loss: 510.5297 - val_loss: 204.2945\n",
      "Epoch 4/1000\n",
      " - 35s - loss: 505.8942 - val_loss: 211.2363\n",
      "Epoch 5/1000\n",
      " - 35s - loss: 502.0622 - val_loss: 202.2300\n",
      "Epoch 6/1000\n",
      " - 43s - loss: 502.1896 - val_loss: 226.6865\n",
      "Epoch 7/1000\n",
      " - 35s - loss: 500.8095 - val_loss: 205.8072\n",
      "Epoch 8/1000\n",
      " - 38s - loss: 497.5710 - val_loss: 198.3519\n",
      "Epoch 9/1000\n",
      " - 29s - loss: 495.5105 - val_loss: 225.0722\n",
      "Epoch 10/1000\n",
      " - 35s - loss: 499.5712 - val_loss: 221.1868\n",
      "Epoch 11/1000\n",
      " - 35s - loss: 497.2455 - val_loss: 214.2965\n",
      "Epoch 12/1000\n",
      " - 33s - loss: 500.9527 - val_loss: 205.9829\n",
      "Epoch 13/1000\n",
      " - 35s - loss: 498.3945 - val_loss: 197.7749\n",
      "Epoch 14/1000\n",
      " - 43s - loss: 496.6274 - val_loss: 205.2819\n",
      "Epoch 15/1000\n",
      " - 35s - loss: 494.4255 - val_loss: 195.1709\n",
      "Epoch 16/1000\n",
      " - 43s - loss: 495.7825 - val_loss: 201.5084\n",
      "Epoch 17/1000\n",
      " - 35s - loss: 493.2053 - val_loss: 210.6831\n",
      "Epoch 18/1000\n",
      " - 35s - loss: 494.8943 - val_loss: 209.3237\n",
      "Epoch 19/1000\n",
      " - 29s - loss: 494.0780 - val_loss: 199.2655\n",
      "Epoch 20/1000\n",
      " - 35s - loss: 496.3926 - val_loss: 201.7845\n",
      "Epoch 00020: early stopping\n"
     ]
    },
    {
     "data": {
      "text/plain": [
       "<keras.callbacks.History at 0x129c2208>"
      ]
     },
     "execution_count": 7,
     "metadata": {},
     "output_type": "execute_result"
    }
   ],
   "source": [
    "from keras.preprocessing import sequence\n",
    "from keras.models import Sequential\n",
    "from keras.layers import Dense, Embedding\n",
    "from keras.layers import LSTM\n",
    "from keras.datasets import imdb\n",
    "from keras.callbacks import EarlyStopping\n",
    "import numpy as np\n",
    "\n",
    "print('Build model...')\n",
    "model = Sequential()\n",
    "model.add(LSTM(64, dropout=0.0, recurrent_dropout=0.0,input_shape=(None, 1)))\n",
    "model.add(Dense(32))\n",
    "model.add(Dense(1))\n",
    "model.compile(loss='mean_squared_error', optimizer='adam')\n",
    "monitor = EarlyStopping(monitor='val_loss', min_delta=1e-3, patience=5, verbose=1, mode='auto')\n",
    "print('Train...')\n",
    "\n",
    "model.fit(x_train,y_train,validation_data=(x_test,y_test),callbacks=[monitor],verbose=2,epochs=1000)"
   ]
  },
  {
   "cell_type": "code",
   "execution_count": 8,
   "metadata": {},
   "outputs": [
    {
     "name": "stdout",
     "output_type": "stream",
     "text": [
      "Score (RMSE): 14.205087990645266\n"
     ]
    }
   ],
   "source": [
    "from sklearn import metrics\n",
    "\n",
    "pred = model.predict(x_test)\n",
    "score = np.sqrt(metrics.mean_squared_error(pred,y_test))\n",
    "print(\"Score (RMSE): {}\".format(score))\n"
   ]
  },
  {
   "cell_type": "code",
   "execution_count": null,
   "metadata": {},
   "outputs": [],
   "source": []
  }
 ],
 "metadata": {
  "kernelspec": {
   "display_name": "Python 3",
   "language": "python",
   "name": "python3"
  },
  "language_info": {
   "codemirror_mode": {
    "name": "ipython",
    "version": 3
   },
   "file_extension": ".py",
   "mimetype": "text/x-python",
   "name": "python",
   "nbconvert_exporter": "python",
   "pygments_lexer": "ipython3",
   "version": "3.6.4"
  }
 },
 "nbformat": 4,
 "nbformat_minor": 2
}
